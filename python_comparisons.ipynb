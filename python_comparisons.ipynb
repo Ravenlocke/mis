{
 "cells": [
  {
   "cell_type": "markdown",
   "metadata": {},
   "source": [
    "# Comparing statistics to Python\n",
    "\n",
    "The purpose of this notebook is to generate a few comparison statistics for time using `networkx`'s implementation of finding maximal independent sets."
   ]
  },
  {
   "cell_type": "code",
   "execution_count": 12,
   "metadata": {},
   "outputs": [],
   "source": [
    "from collections import Counter\n",
    "from itertools import repeat\n",
    "import multiprocessing as mp\n",
    "\n",
    "import matplotlib.pyplot as plt\n",
    "import networkx as nx\n",
    "from networkx.algorithms.approximation.independent_set import maximum_independent_set\n",
    "import pandas as pd"
   ]
  },
  {
   "cell_type": "code",
   "execution_count": 16,
   "metadata": {},
   "outputs": [
    {
     "data": {
      "image/png": "[encoded data removed]",
      "text/plain": [
       "<Figure size 432x288 with 1 Axes>"
      ]
     },
     "metadata": {},
     "output_type": "display_data"
    },
    {
     "name": "stdout",
     "output_type": "stream",
     "text": [
      "1000\n",
      "864\n"
     ]
    }
   ],
   "source": [
    "# Read the network\n",
    "# infile = \"examples/test_edgelist.txt\"\n",
    "infile = \"examples/gnm_edgelist.txt\"\n",
    "\n",
    "g = nx.read_edgelist(infile)\n",
    "nx.draw(g)\n",
    "plt.show()\n"
   ]
  },
  {
   "cell_type": "code",
   "execution_count": 24,
   "metadata": {},
   "outputs": [
    {
     "name": "stdout",
     "output_type": "stream",
     "text": [
      "{'134', '690', '52', '272', '538', '650', '181', '449', '194', '27', '42', '55', '14', '2', '143', '299', '72', '393', '336', '778', '681', '771', '815', '300', '71', '817', '178', '154', '32', '476', '579', '827', '230', '169', '514', '34', '697', '110', '329', '875', '365', '271', '236', '442', '942', '791', '183', '43', '227', '63', '896', '809', '665', '172', '861', '263', '702', '151', '570', '491', '434', '714', '260', '378', '45', '914', '388', '443', '591', '575', '102', '611', '273', '637', '216', '515', '122', '905', '213', '180', '569', '77', '925', '337', '15', '307', '972', '461', '57', '456', '25', '446', '83', '583', '897', '108', '28', '283', '990', '166', '163', '343', '291', '522', '6', '129', '220', '716', '654', '74', '160', '892', '221', '384', '121', '761', '727', '510', '125', '630', '717', '155', '249', '176', '474', '436', '98', '416', '231', '486', '244', '949', '146', '566', '383', '47', '86', '7', '631', '5', '973', '404', '345', '94', '408', '402', '170', '116', '303', '961', '193', '36', '298', '232', '881', '8', '12', '757', '67', '240', '625', '373', '282', '211', '467', '11', '763', '580', '762', '667', '156', '322', '385', '24', '215', '168', '325', '278', '709', '242', '688', '123', '97', '16', '848', '51', '185', '269', '531', '824', '37', '93', '748', '174', '70', '560', '287', '647', '725', '597', '707', '420', '755', '206', '648', '92', '147', '112', '319', '765', '859', '511', '482', '58', '1', '226', '159', '683', '935', '466', '448', '500', '634', '90', '222', '749', '459', '940', '440', '658', '682', '207', '120', '619', '49', '968', '29', '137', '84', '132', '369', '890', '364', '26', '871', '69', '810', '30', '712', '79', '164', '595', '664', '540', '48', '431', '427', '612', '228', '292', '280', '620', '235', '316', '209', '204', '76', '988', '150', '340', '145', '374', '281', '252', '609', '534', '788', '904', '41', '253', '61', '572', '188', '17', '978', '133', '66', '332', '82', '533', '182', '10', '495', '161', '233', '744', '638', '186', '310', '360', '944', '126', '984', '662', '573', '266', '557', '616', '548', '85', '349', '351', '623', '799', '138', '886', '225', '517', '87', '469', '88', '311', '335', '341', '728', '201', '418', '21', '352', '367', '587', '689', '601', '212', '192', '381', '237', '258', '513', '512', '946', '251', '939', '259', '916', '105', '382', '805', '621', '20', '75', '941', '504', '224', '843', '293', '39', '223', '478', '19', '35', '368', '234', '879', '874', '165', '38', '362', '350', '18', '855', '487', '99', '275', '693', '882', '666', '796', '463', '610', '424', '62', '31', '158', '268', '489', '554', '302', '428', '344', '89', '615', '202', '873', '529', '100', '348', '401', '547', '124', '40', '113', '851', '189', '4', '528', '636', '190', '521', '59', '803', '148', '314', '626', '290', '162', '308'}\n"
     ]
    }
   ],
   "source": [
    "print(f\"The maximum independent set calculated has a size of: {len(maximum_independent_set(g))}\")"
   ]
  },
  {
   "cell_type": "code",
   "execution_count": 23,
   "metadata": {},
   "outputs": [
    {
     "name": "stdout",
     "output_type": "stream",
     "text": [
      "434\n",
      "386\n",
      "CPU times: user 55.6 ms, sys: 56.1 ms, total: 112 ms\n",
      "Wall time: 18.8 s\n"
     ]
    }
   ],
   "source": [
    "%%time\n",
    "\n",
    "# Compare to the same number of iterations using Python\n",
    "\n",
    "def job(g):\n",
    "    x = nx.maximal_independent_set(g)\n",
    "    return len(x)\n",
    "\n",
    "n = 1_000_000\n",
    "\n",
    "with mp.Pool(4) as p:\n",
    "    data = p.map(job, repeat(g, n))\n",
    "    \n",
    "print(max(data))\n",
    "print(min(data))"
   ]
  }
 ],
 "metadata": {
  "kernelspec": {
   "display_name": "Python 3",
   "language": "python",
   "name": "python3"
  },
  "language_info": {
   "codemirror_mode": {
    "name": "ipython",
    "version": 3
   },
   "file_extension": ".py",
   "mimetype": "text/x-python",
   "name": "python",
   "nbconvert_exporter": "python",
   "pygments_lexer": "ipython3",
   "version": "3.7.1"
  }
 },
 "nbformat": 4,
 "nbformat_minor": 4
}
